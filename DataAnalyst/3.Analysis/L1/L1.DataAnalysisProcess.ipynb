{
 "cells": [
  {
   "cell_type": "markdown",
   "metadata": {},
   "source": [
    "# Data Analysis Process\n",
    "1. Question\n",
    "2. Wrangle\n",
    "3. Explore\n",
    "4. Draw Conclusions(making predictions)\n",
    "5. Communicate\n",
    "---\n",
    "\n",
    "## 1. Question\n",
    "1. Characteristics of students who pass projects\n",
    "2. how to stock store\n",
    "\n",
    "## 2. Wrangling\n",
    "1. Data Acquisition\n",
    "2. Data Cleaning\n",
    "\n",
    "## 3. Exploring\n",
    "1. build intuition\n",
    "2. find patterns\n",
    "\n",
    "## 4. Concluding/Predicting\n",
    "1. Predicting : which movies users will like\n",
    "2. concluding : users are less likely to click certain articles\n",
    "- requires statistics/machine learning\n",
    "\n",
    "## 5. Communicating\n",
    "1. Writing\n",
    "2. Visualization\n"
   ]
  },
  {
   "cell_type": "markdown",
   "metadata": {},
   "source": [
    "# 2. Data Wrangling\n",
    "\n",
    "## a. Data Acquisition\n",
    "\n",
    "1. Downloading files\n",
    "2. Accessing an API\n",
    "3. Scraping a webpage\n",
    "4. Combine data from different formats\n",
    "\n",
    "- Data Wrangling with MongoDB\n",
    "\n",
    "## b. Data Format - CSV\n",
    "\n",
    "1. spreadsheet with no formulas\n",
    "2. easy to process with code (unlike .xlsx)\n",
    "\n",
    "### Outside sources\n",
    "- [iterators & classes](http://pythonstudy.xyz/python/article/23-Iterator%EC%99%80-Generator)\n",
    "- [udacity source on iterators](https://www.codementor.io/sheena/python-generators-and-iterators-du1082iua)\n",
    "- [offdoc on csv for python 2.7](https://docs.python.org/2/library/csv.html)"
   ]
  },
  {
   "cell_type": "code",
   "execution_count": 1,
   "metadata": {
    "collapsed": false
   },
   "outputs": [
    {
     "data": {
      "text/plain": [
       "{u'account_key': u'448',\n",
       " u'cancel_date': u'2015-01-14',\n",
       " u'days_to_cancel': u'65',\n",
       " u'is_canceled': u'True',\n",
       " u'is_udacity': u'True',\n",
       " u'join_date': u'2014-11-10',\n",
       " u'status': u'canceled'}"
      ]
     },
     "execution_count": 1,
     "metadata": {},
     "output_type": "execute_result"
    }
   ],
   "source": [
    "## Representing a CSV as a list of rows\n",
    "\n",
    "# Option 1 : Each row is a list\n",
    "csv = [['john', 'yonsei', 'cs'],\n",
    "       ['tak', 'korea', 'bm']]\n",
    "\n",
    "# Option 2 : Each row is a dictionary\n",
    "csv_dict = [{'name': 'john', 'school': 'yonsei', 'major': 'cs'},\n",
    "            {'name': 'tak', 'school': 'korea', 'major': 'bm'}]\n",
    "\n",
    "import unicodecsv # unicodecsv works exactly the same as csv with unicode support (provided by anaconda)\n",
    "\n",
    "enrollments = []\n",
    "f = open('enrollments.csv', 'rb')\n",
    "reader = unicodecsv.DictReader(f) # iterator\n",
    "\n",
    "for row in reader:\n",
    "  enrollments.append(row)\n",
    "  \n",
    "f.close()\n",
    "\n",
    "enrollments[0]"
   ]
  },
  {
   "cell_type": "code",
   "execution_count": 2,
   "metadata": {
    "collapsed": false
   },
   "outputs": [
    {
     "data": {
      "text/plain": [
       "{u'account_key': u'448',\n",
       " u'cancel_date': u'2015-01-14',\n",
       " u'days_to_cancel': u'65',\n",
       " u'is_canceled': u'True',\n",
       " u'is_udacity': u'True',\n",
       " u'join_date': u'2014-11-10',\n",
       " u'status': u'canceled'}"
      ]
     },
     "execution_count": 2,
     "metadata": {},
     "output_type": "execute_result"
    }
   ],
   "source": [
    "# shorter way to write the same code above\n",
    "\n",
    "import unicodecsv\n",
    "\n",
    "with open('enrollments.csv', 'rb') as f:\n",
    "  reader = unicodecsv.DictReader(f) # iterator to list\n",
    "  enrollments = list(reader)\n",
    "  \n",
    "enrollments[0]"
   ]
  },
  {
   "cell_type": "markdown",
   "metadata": {},
   "source": [
    "## c. Fixing data type\n",
    "\n",
    "1. All data comes as 'String'\n",
    "2. empty string -> None, Number -> Numeric, etc\n",
    "\n",
    "## Questioning - getting curious\n",
    "1. how long to submit projects?\n",
    "2. how do students who pass their projects differ from those who don't?\n",
    "3. how much time students spend time taking classes\n",
    "4. how time spent relates to lessons/projects completed\n",
    "5. how engagement changes how many students submit"
   ]
  },
  {
   "cell_type": "code",
   "execution_count": null,
   "metadata": {
    "collapsed": true
   },
   "outputs": [],
   "source": []
  }
 ],
 "metadata": {
  "anaconda-cloud": {},
  "kernelspec": {
   "display_name": "Python [conda env:DAND]",
   "language": "python",
   "name": "conda-env-DAND-py"
  },
  "language_info": {
   "codemirror_mode": {
    "name": "ipython",
    "version": 2
   },
   "file_extension": ".py",
   "mimetype": "text/x-python",
   "name": "python",
   "nbconvert_exporter": "python",
   "pygments_lexer": "ipython2",
   "version": "2.7.12"
  }
 },
 "nbformat": 4,
 "nbformat_minor": 2
}
