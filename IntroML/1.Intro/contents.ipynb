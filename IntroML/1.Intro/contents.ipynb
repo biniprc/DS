{
 "cells": [
  {
   "cell_type": "markdown",
   "metadata": {},
   "source": [
    "# Introduction to ML\n",
    "\n",
    "- It is a research field at the intersection of statistics, artificial intelligence, and computer science and is also known as predictive analytics or statistical learning.\n",
    "\n",
    "- an expert-designed rule system: many systems used handcoded rules of “if ” and “else” decisions to process data or adjust to user input.\n",
    "    + Manually crafting decision rules is feasible for some applica‐ tions, particularly those in which humans have a good understanding of the process to model.\n",
    "    + two major disad‐ vantages:\n",
    "        * The logic required to make a decision is specific to a single domain and task. Changing the task even slightly might require a rewrite of the whole system.\n",
    "        * Designing rules requires a deep understanding of how a decision should be made by a human expert.\n",
    "\n",
    "- Today's ML\n",
    "    + Supervised Learning\n",
    "        * example: Identifying the zip code from handwritten digits on an envelope, Determining whether a tumor is benign based on a medical image, Detecting fraudulent activity in credit card transactions\n",
    "        \n",
    "    + Unsupervised Learning\n",
    "        * example: Identifying topics in a set of blog posts, Segmenting customers into groups with similar preferences, Detecting abnormal access patterns to a website\n",
    "        \n",
    "## 1. scikit-learn\n",
    "\n",
    "\n",
    "## 2. numpy\n",
    "- NumPy is one of the fundamental packages for scientific computing in Python. It contains functionality for multidimensional arrays, high-level mathematical func‐ tions such as linear algebra operations and the Fourier transform, and pseudorandom number generators.\n",
    "- In scikit-learn, the NumPy array is the fundamental data structure. scikit-learn takes in data in the form of NumPy arrays. Any data you’re using will have to be con‐ verted to a NumPy array. The core functionality of NumPy is the ndarray class, a multidimensional (n-dimensional) array. All elements of the array must be of the same type. A NumPy array looks like this:"
   ]
  }
 ],
 "metadata": {
  "kernelspec": {
   "display_name": "Python [default]",
   "language": "python",
   "name": "python3"
  },
  "language_info": {
   "codemirror_mode": {
    "name": "ipython",
    "version": 3
   },
   "file_extension": ".py",
   "mimetype": "text/x-python",
   "name": "python",
   "nbconvert_exporter": "python",
   "pygments_lexer": "ipython3",
   "version": "3.6.1"
  }
 },
 "nbformat": 4,
 "nbformat_minor": 2
}
