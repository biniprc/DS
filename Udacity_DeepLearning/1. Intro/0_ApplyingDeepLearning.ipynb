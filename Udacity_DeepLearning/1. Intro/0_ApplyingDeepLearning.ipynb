{
 "cells": [
  {
   "cell_type": "markdown",
   "metadata": {},
   "source": [
    "# Applying Deep Learning\n",
    "\n",
    "An example of Deep Learning Application\n",
    "- [Fast Style Transfer](https://github.com/lengstrom/fast-style-transfer)\n",
    "- [Deep Traffic](http://selfdrivingcars.mit.edu/deeptrafficjs)\n",
    "- [Flappy Bird](https://github.com/yenchenlin/DeepLearningFlappyBird)\n",
    "\n",
    "## 1. Style Transfer\n",
    "CNN\n",
    "- Installation\n",
    "```\n",
    "conda create -n style-transfer python=2.7.9\n",
    "source activate style-transfer\n",
    "pip install tensorflow\n",
    "conda install scipy pillow\n",
    "```\n",
    "- Usage\n",
    "```\n",
    "python evaluate.py --checkpoint ./rain-princess.ckpt --in-path <path_to_input_file> --out-path ./output_image.jpg\n",
    "```\n",
    "\n",
    "## 2. Deep Trafic\n",
    "Reinforcement Learning\n",
    "- [Guide](http://selfdrivingcars.mit.edu/deeptraffic/)\n",
    "- [Simulation](http://selfdrivingcars.mit.edu/deeptrafficjs)\n",
    "\n",
    "## 3. Flappy Bird\n",
    "- Installation\n",
    "```\n",
    "conda install -c menpo opencv3\n",
    "pip install pygame\n",
    "pip install tensorflow\n",
    "git clone https://github.com/yenchenlin/DeepLearningFlappyBird.git\n",
    "cd DeepLearningFlappyBird\n",
    "python deep_q_network.py\n",
    "```\n",
    "\n",
    "## 4. Books to Read\n",
    "- https://www.manning.com/books/grokking-deep-learning\n",
    "- http://neuralnetworksanddeeplearning.com/\n",
    "- http://www.deeplearningbook.org/"
   ]
  },
  {
   "cell_type": "code",
   "execution_count": null,
   "metadata": {
    "collapsed": true
   },
   "outputs": [],
   "source": []
  }
 ],
 "metadata": {
  "kernelspec": {
   "display_name": "Python [conda root]",
   "language": "python",
   "name": "conda-root-py"
  },
  "language_info": {
   "codemirror_mode": {
    "name": "ipython",
    "version": 3
   },
   "file_extension": ".py",
   "mimetype": "text/x-python",
   "name": "python",
   "nbconvert_exporter": "python",
   "pygments_lexer": "ipython3",
   "version": "3.6.1"
  }
 },
 "nbformat": 4,
 "nbformat_minor": 2
}
