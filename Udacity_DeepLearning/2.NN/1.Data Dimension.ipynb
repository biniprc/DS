{
 "cells": [
  {
   "cell_type": "markdown",
   "metadata": {
    "collapsed": true
   },
   "source": [
    "# Data Dimension\n",
    "---\n",
    "## 1. How to represent sth w/ data\n",
    "- Representing a person\n",
    "    + Characteristics : numbers e.g. height, weight, etc\n",
    "    + Photo : rgb values in each pixel\n",
    "\n",
    "## 2. Dimension of data\n",
    "- Scalars : 0-dimension\n",
    "    + 170(cm), 55(kg), 24(age)\n",
    "- Vectors : 1d(length)\n",
    "    + [170, 55, 24] - row vector / column vector\n",
    "- Matrices : 2d\n",
    "$$\n",
    "\\begin{bmatrix}\n",
    "    1 & 2 \\\\\n",
    "    3 & 4 \\\\\n",
    "\\end{bmatrix}\n",
    "$$\n",
    "- Tensor : any n-dimensional collection of values\n",
    "    + Scalar : 0-dimensional tensor\n",
    "    + Vector : 1-dimensional tensor\n",
    "    + Matrix : 2-d tensor\n",
    "    + Tensor : anything larger than matrix"
   ]
  }
 ],
 "metadata": {
  "kernelspec": {
   "display_name": "Python [default]",
   "language": "python",
   "name": "python3"
  },
  "language_info": {
   "codemirror_mode": {
    "name": "ipython",
    "version": 3
   },
   "file_extension": ".py",
   "mimetype": "text/x-python",
   "name": "python",
   "nbconvert_exporter": "python",
   "pygments_lexer": "ipython3",
   "version": "3.6.1"
  }
 },
 "nbformat": 4,
 "nbformat_minor": 2
}
